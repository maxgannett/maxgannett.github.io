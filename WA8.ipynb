{
 "cells": [
  {
   "cell_type": "markdown",
   "metadata": {},
   "source": [
    "## Import the libaries that will be used and make sure to enable large datasets for altair "
   ]
  },
  {
   "cell_type": "code",
   "execution_count": 65,
   "metadata": {},
   "outputs": [
    {
     "data": {
      "text/plain": [
       "DataTransformerRegistry.enable('default')"
      ]
     },
     "execution_count": 65,
     "metadata": {},
     "output_type": "execute_result"
    }
   ],
   "source": [
    "import pandas as pd \n",
    "import numpy as np\n",
    "import altair as alt\n",
    "alt.data_transformers.disable_max_rows()"
   ]
  },
  {
   "cell_type": "markdown",
   "metadata": {},
   "source": [
    "# Import the data and look to see if loaded"
   ]
  },
  {
   "cell_type": "code",
   "execution_count": 39,
   "metadata": {},
   "outputs": [
    {
     "data": {
      "text/html": [
       "<div>\n",
       "<style scoped>\n",
       "    .dataframe tbody tr th:only-of-type {\n",
       "        vertical-align: middle;\n",
       "    }\n",
       "\n",
       "    .dataframe tbody tr th {\n",
       "        vertical-align: top;\n",
       "    }\n",
       "\n",
       "    .dataframe thead th {\n",
       "        text-align: right;\n",
       "    }\n",
       "</style>\n",
       "<table border=\"1\" class=\"dataframe\">\n",
       "  <thead>\n",
       "    <tr style=\"text-align: right;\">\n",
       "      <th></th>\n",
       "      <th>raw_row_number</th>\n",
       "      <th>date</th>\n",
       "      <th>time</th>\n",
       "      <th>location</th>\n",
       "      <th>lat</th>\n",
       "      <th>lng</th>\n",
       "      <th>district</th>\n",
       "      <th>precinct</th>\n",
       "      <th>type</th>\n",
       "      <th>disposition</th>\n",
       "      <th>arrest_made</th>\n",
       "      <th>citation_issued</th>\n",
       "      <th>warning_issued</th>\n",
       "      <th>outcome</th>\n",
       "    </tr>\n",
       "  </thead>\n",
       "  <tbody>\n",
       "    <tr>\n",
       "      <th>0</th>\n",
       "      <td>1</td>\n",
       "      <td>2012-11-13</td>\n",
       "      <td>00:02:22</td>\n",
       "      <td>8500 W CRESTLINE AVE</td>\n",
       "      <td>39.618329</td>\n",
       "      <td>-105.092691</td>\n",
       "      <td>4</td>\n",
       "      <td>423</td>\n",
       "      <td>vehicular</td>\n",
       "      <td>K - Street Check Completed</td>\n",
       "      <td>False</td>\n",
       "      <td>False</td>\n",
       "      <td>False</td>\n",
       "      <td>NaN</td>\n",
       "    </tr>\n",
       "    <tr>\n",
       "      <th>1</th>\n",
       "      <td>16</td>\n",
       "      <td>2012-11-29</td>\n",
       "      <td>00:25:01</td>\n",
       "      <td>8500 W CRESTLINE AVE</td>\n",
       "      <td>39.618329</td>\n",
       "      <td>-105.092691</td>\n",
       "      <td>4</td>\n",
       "      <td>423</td>\n",
       "      <td>vehicular</td>\n",
       "      <td>Party Advised</td>\n",
       "      <td>False</td>\n",
       "      <td>False</td>\n",
       "      <td>False</td>\n",
       "      <td>NaN</td>\n",
       "    </tr>\n",
       "    <tr>\n",
       "      <th>2</th>\n",
       "      <td>72</td>\n",
       "      <td>2012-11-23</td>\n",
       "      <td>22:58:10</td>\n",
       "      <td>4830 S HOLLAND WAY</td>\n",
       "      <td>39.630666</td>\n",
       "      <td>-105.102551</td>\n",
       "      <td>4</td>\n",
       "      <td>423</td>\n",
       "      <td>vehicular</td>\n",
       "      <td>K - Street Check Completed</td>\n",
       "      <td>False</td>\n",
       "      <td>False</td>\n",
       "      <td>False</td>\n",
       "      <td>NaN</td>\n",
       "    </tr>\n",
       "    <tr>\n",
       "      <th>3</th>\n",
       "      <td>121</td>\n",
       "      <td>2012-11-27</td>\n",
       "      <td>17:48:33</td>\n",
       "      <td>4885 S QUEBEC ST</td>\n",
       "      <td>39.626174</td>\n",
       "      <td>-104.904062</td>\n",
       "      <td>3</td>\n",
       "      <td>324</td>\n",
       "      <td>pedestrian</td>\n",
       "      <td>In Service</td>\n",
       "      <td>False</td>\n",
       "      <td>False</td>\n",
       "      <td>False</td>\n",
       "      <td>NaN</td>\n",
       "    </tr>\n",
       "    <tr>\n",
       "      <th>4</th>\n",
       "      <td>138</td>\n",
       "      <td>2012-11-14</td>\n",
       "      <td>23:46:58</td>\n",
       "      <td>W LAYTON AVE / S WADSWORTH BLVD</td>\n",
       "      <td>39.630150</td>\n",
       "      <td>-105.081693</td>\n",
       "      <td>4</td>\n",
       "      <td>423</td>\n",
       "      <td>vehicular</td>\n",
       "      <td>Party Advised</td>\n",
       "      <td>False</td>\n",
       "      <td>False</td>\n",
       "      <td>False</td>\n",
       "      <td>NaN</td>\n",
       "    </tr>\n",
       "  </tbody>\n",
       "</table>\n",
       "</div>"
      ],
      "text/plain": [
       "   raw_row_number        date      time                         location  \\\n",
       "0               1  2012-11-13  00:02:22             8500 W CRESTLINE AVE   \n",
       "1              16  2012-11-29  00:25:01             8500 W CRESTLINE AVE   \n",
       "2              72  2012-11-23  22:58:10               4830 S HOLLAND WAY   \n",
       "3             121  2012-11-27  17:48:33                 4885 S QUEBEC ST   \n",
       "4             138  2012-11-14  23:46:58  W LAYTON AVE / S WADSWORTH BLVD   \n",
       "\n",
       "         lat         lng district precinct        type  \\\n",
       "0  39.618329 -105.092691        4      423   vehicular   \n",
       "1  39.618329 -105.092691        4      423   vehicular   \n",
       "2  39.630666 -105.102551        4      423   vehicular   \n",
       "3  39.626174 -104.904062        3      324  pedestrian   \n",
       "4  39.630150 -105.081693        4      423   vehicular   \n",
       "\n",
       "                  disposition  arrest_made  citation_issued  warning_issued  \\\n",
       "0  K - Street Check Completed        False            False           False   \n",
       "1               Party Advised        False            False           False   \n",
       "2  K - Street Check Completed        False            False           False   \n",
       "3                  In Service        False            False           False   \n",
       "4               Party Advised        False            False           False   \n",
       "\n",
       "  outcome  \n",
       "0     NaN  \n",
       "1     NaN  \n",
       "2     NaN  \n",
       "3     NaN  \n",
       "4     NaN  "
      ]
     },
     "execution_count": 39,
     "metadata": {},
     "output_type": "execute_result"
    }
   ],
   "source": [
    "data = pd.read_csv(\"denver-1.nov.csv\")\n",
    "data.head()"
   ]
  },
  {
   "cell_type": "markdown",
   "metadata": {},
   "source": [
    "# Remove NaN variables "
   ]
  },
  {
   "cell_type": "code",
   "execution_count": 119,
   "metadata": {},
   "outputs": [],
   "source": [
    "data = data[data[\"precinct\"] != 'None']\n",
    "data.head()"
   ]
  },
  {
   "cell_type": "markdown",
   "metadata": {},
   "source": [
    "# These statistics get you the average issued or arrest  by the Denver Police precincts\n",
    "\n",
    "### Average warnings issued 11.4%"
   ]
  },
  {
   "cell_type": "code",
   "execution_count": 121,
   "metadata": {},
   "outputs": [
    {
     "data": {
      "text/plain": [
       "0.1143732860138732"
      ]
     },
     "execution_count": 121,
     "metadata": {},
     "output_type": "execute_result"
    }
   ],
   "source": [
    "data[\"warning_issued\"].sum()/data[\"raw_row_number\"].count()"
   ]
  },
  {
   "cell_type": "markdown",
   "metadata": {},
   "source": [
    "### Average arrests made was 15.5%"
   ]
  },
  {
   "cell_type": "code",
   "execution_count": 122,
   "metadata": {},
   "outputs": [
    {
     "data": {
      "text/plain": [
       "0.15518632037425392"
      ]
     },
     "execution_count": 122,
     "metadata": {},
     "output_type": "execute_result"
    }
   ],
   "source": [
    "data[\"arrest_made\"].sum()/data[\"raw_row_number\"].count()"
   ]
  },
  {
   "cell_type": "markdown",
   "metadata": {},
   "source": [
    "### Average citations issued were 16.9% "
   ]
  },
  {
   "cell_type": "code",
   "execution_count": 123,
   "metadata": {},
   "outputs": [
    {
     "data": {
      "text/plain": [
       "0.16922084207130184"
      ]
     },
     "execution_count": 123,
     "metadata": {},
     "output_type": "execute_result"
    }
   ],
   "source": [
    "data[\"citation_issued\"].sum()/data[\"raw_row_number\"].count()"
   ]
  },
  {
   "cell_type": "markdown",
   "metadata": {},
   "source": [
    "# Create pivot tables of arrests, citations, and warnings to understand precinct habits and visualize data "
   ]
  },
  {
   "cell_type": "code",
   "execution_count": 260,
   "metadata": {},
   "outputs": [
    {
     "data": {
      "text/html": [
       "<div>\n",
       "<style scoped>\n",
       "    .dataframe tbody tr th:only-of-type {\n",
       "        vertical-align: middle;\n",
       "    }\n",
       "\n",
       "    .dataframe tbody tr th {\n",
       "        vertical-align: top;\n",
       "    }\n",
       "\n",
       "    .dataframe thead th {\n",
       "        text-align: right;\n",
       "    }\n",
       "</style>\n",
       "<table border=\"1\" class=\"dataframe\">\n",
       "  <thead>\n",
       "    <tr style=\"text-align: right;\">\n",
       "      <th></th>\n",
       "      <th>precinct</th>\n",
       "      <th>arrest_made</th>\n",
       "    </tr>\n",
       "  </thead>\n",
       "  <tbody>\n",
       "    <tr>\n",
       "      <th>0</th>\n",
       "      <td>111</td>\n",
       "      <td>41.0</td>\n",
       "    </tr>\n",
       "    <tr>\n",
       "      <th>1</th>\n",
       "      <td>112</td>\n",
       "      <td>40.0</td>\n",
       "    </tr>\n",
       "    <tr>\n",
       "      <th>2</th>\n",
       "      <td>113</td>\n",
       "      <td>14.0</td>\n",
       "    </tr>\n",
       "    <tr>\n",
       "      <th>3</th>\n",
       "      <td>121</td>\n",
       "      <td>39.0</td>\n",
       "    </tr>\n",
       "    <tr>\n",
       "      <th>4</th>\n",
       "      <td>122</td>\n",
       "      <td>40.0</td>\n",
       "    </tr>\n",
       "  </tbody>\n",
       "</table>\n",
       "</div>"
      ],
      "text/plain": [
       "  precinct  arrest_made\n",
       "0      111         41.0\n",
       "1      112         40.0\n",
       "2      113         14.0\n",
       "3      121         39.0\n",
       "4      122         40.0"
      ]
     },
     "execution_count": 260,
     "metadata": {},
     "output_type": "execute_result"
    }
   ],
   "source": [
    "piv_arrests = pd.pivot_table(data,\n",
    "                                     values=['arrest_made'],\n",
    "                                     index='precinct',\n",
    "                                     aggfunc='sum'\n",
    "                                    )\n",
    "\n",
    "\n",
    "arrests =pd.DataFrame(piv_arrests[\"arrest_made\"])\n",
    "arrests = arrests.reset_index()\n",
    "arrests.head()"
   ]
  },
  {
   "cell_type": "code",
   "execution_count": 261,
   "metadata": {},
   "outputs": [
    {
     "data": {
      "text/html": [
       "<div>\n",
       "<style scoped>\n",
       "    .dataframe tbody tr th:only-of-type {\n",
       "        vertical-align: middle;\n",
       "    }\n",
       "\n",
       "    .dataframe tbody tr th {\n",
       "        vertical-align: top;\n",
       "    }\n",
       "\n",
       "    .dataframe thead th {\n",
       "        text-align: right;\n",
       "    }\n",
       "</style>\n",
       "<table border=\"1\" class=\"dataframe\">\n",
       "  <thead>\n",
       "    <tr style=\"text-align: right;\">\n",
       "      <th></th>\n",
       "      <th>precinct</th>\n",
       "      <th>warning_issued</th>\n",
       "    </tr>\n",
       "  </thead>\n",
       "  <tbody>\n",
       "    <tr>\n",
       "      <th>0</th>\n",
       "      <td>111</td>\n",
       "      <td>33.0</td>\n",
       "    </tr>\n",
       "    <tr>\n",
       "      <th>1</th>\n",
       "      <td>112</td>\n",
       "      <td>8.0</td>\n",
       "    </tr>\n",
       "    <tr>\n",
       "      <th>2</th>\n",
       "      <td>113</td>\n",
       "      <td>27.0</td>\n",
       "    </tr>\n",
       "    <tr>\n",
       "      <th>3</th>\n",
       "      <td>121</td>\n",
       "      <td>25.0</td>\n",
       "    </tr>\n",
       "    <tr>\n",
       "      <th>4</th>\n",
       "      <td>122</td>\n",
       "      <td>26.0</td>\n",
       "    </tr>\n",
       "  </tbody>\n",
       "</table>\n",
       "</div>"
      ],
      "text/plain": [
       "  precinct  warning_issued\n",
       "0      111            33.0\n",
       "1      112             8.0\n",
       "2      113            27.0\n",
       "3      121            25.0\n",
       "4      122            26.0"
      ]
     },
     "execution_count": 261,
     "metadata": {},
     "output_type": "execute_result"
    }
   ],
   "source": [
    "piv_warning = pd.pivot_table(data,\n",
    "                                     values=['warning_issued'],\n",
    "                                     index='precinct',\n",
    "                                     aggfunc='sum'\n",
    "                                    )\n",
    "\n",
    "\n",
    "warnings =pd.DataFrame(piv_warning[\"warning_issued\"])\n",
    "warnings = warnings.reset_index()\n",
    "warnings.head()"
   ]
  },
  {
   "cell_type": "code",
   "execution_count": 262,
   "metadata": {},
   "outputs": [
    {
     "data": {
      "text/html": [
       "<div>\n",
       "<style scoped>\n",
       "    .dataframe tbody tr th:only-of-type {\n",
       "        vertical-align: middle;\n",
       "    }\n",
       "\n",
       "    .dataframe tbody tr th {\n",
       "        vertical-align: top;\n",
       "    }\n",
       "\n",
       "    .dataframe thead th {\n",
       "        text-align: right;\n",
       "    }\n",
       "</style>\n",
       "<table border=\"1\" class=\"dataframe\">\n",
       "  <thead>\n",
       "    <tr style=\"text-align: right;\">\n",
       "      <th></th>\n",
       "      <th>precinct</th>\n",
       "      <th>citation_issued</th>\n",
       "    </tr>\n",
       "  </thead>\n",
       "  <tbody>\n",
       "    <tr>\n",
       "      <th>0</th>\n",
       "      <td>111</td>\n",
       "      <td>53.0</td>\n",
       "    </tr>\n",
       "    <tr>\n",
       "      <th>1</th>\n",
       "      <td>112</td>\n",
       "      <td>36.0</td>\n",
       "    </tr>\n",
       "    <tr>\n",
       "      <th>2</th>\n",
       "      <td>113</td>\n",
       "      <td>30.0</td>\n",
       "    </tr>\n",
       "    <tr>\n",
       "      <th>3</th>\n",
       "      <td>121</td>\n",
       "      <td>36.0</td>\n",
       "    </tr>\n",
       "    <tr>\n",
       "      <th>4</th>\n",
       "      <td>122</td>\n",
       "      <td>26.0</td>\n",
       "    </tr>\n",
       "  </tbody>\n",
       "</table>\n",
       "</div>"
      ],
      "text/plain": [
       "  precinct  citation_issued\n",
       "0      111             53.0\n",
       "1      112             36.0\n",
       "2      113             30.0\n",
       "3      121             36.0\n",
       "4      122             26.0"
      ]
     },
     "execution_count": 262,
     "metadata": {},
     "output_type": "execute_result"
    }
   ],
   "source": [
    "piv_citation = pd.pivot_table(data,\n",
    "                                     values=['citation_issued'],\n",
    "                                     index='precinct',\n",
    "                                     aggfunc='sum'\n",
    "                                    )\n",
    "\n",
    "\n",
    "citations =pd.DataFrame(piv_citation[\"citation_issued\"])\n",
    "citations = citations.reset_index()\n",
    "citations.head()"
   ]
  },
  {
   "cell_type": "markdown",
   "metadata": {},
   "source": [
    "# Merge the data to one Dataframe to use in to visualize in altair"
   ]
  },
  {
   "cell_type": "code",
   "execution_count": 267,
   "metadata": {},
   "outputs": [
    {
     "data": {
      "text/html": [
       "<div>\n",
       "<style scoped>\n",
       "    .dataframe tbody tr th:only-of-type {\n",
       "        vertical-align: middle;\n",
       "    }\n",
       "\n",
       "    .dataframe tbody tr th {\n",
       "        vertical-align: top;\n",
       "    }\n",
       "\n",
       "    .dataframe thead th {\n",
       "        text-align: right;\n",
       "    }\n",
       "</style>\n",
       "<table border=\"1\" class=\"dataframe\">\n",
       "  <thead>\n",
       "    <tr style=\"text-align: right;\">\n",
       "      <th></th>\n",
       "      <th>precinct</th>\n",
       "      <th>arrest_made</th>\n",
       "      <th>citation_issued</th>\n",
       "      <th>warning_issued</th>\n",
       "    </tr>\n",
       "  </thead>\n",
       "  <tbody>\n",
       "    <tr>\n",
       "      <th>0</th>\n",
       "      <td>111</td>\n",
       "      <td>41.0</td>\n",
       "      <td>53.0</td>\n",
       "      <td>33.0</td>\n",
       "    </tr>\n",
       "    <tr>\n",
       "      <th>1</th>\n",
       "      <td>112</td>\n",
       "      <td>40.0</td>\n",
       "      <td>36.0</td>\n",
       "      <td>8.0</td>\n",
       "    </tr>\n",
       "    <tr>\n",
       "      <th>2</th>\n",
       "      <td>113</td>\n",
       "      <td>14.0</td>\n",
       "      <td>30.0</td>\n",
       "      <td>27.0</td>\n",
       "    </tr>\n",
       "    <tr>\n",
       "      <th>3</th>\n",
       "      <td>121</td>\n",
       "      <td>39.0</td>\n",
       "      <td>36.0</td>\n",
       "      <td>25.0</td>\n",
       "    </tr>\n",
       "    <tr>\n",
       "      <th>4</th>\n",
       "      <td>122</td>\n",
       "      <td>40.0</td>\n",
       "      <td>26.0</td>\n",
       "      <td>26.0</td>\n",
       "    </tr>\n",
       "  </tbody>\n",
       "</table>\n",
       "</div>"
      ],
      "text/plain": [
       "  precinct  arrest_made  citation_issued  warning_issued\n",
       "0      111         41.0             53.0            33.0\n",
       "1      112         40.0             36.0             8.0\n",
       "2      113         14.0             30.0            27.0\n",
       "3      121         39.0             36.0            25.0\n",
       "4      122         40.0             26.0            26.0"
      ]
     },
     "execution_count": 267,
     "metadata": {},
     "output_type": "execute_result"
    }
   ],
   "source": [
    "merged_data = pd.merge(arrests,citations, on=['precinct'])\n",
    "final_data = pd.merge(merged_data,warnings, on=[\"precinct\"])\n",
    "final_data.head()"
   ]
  },
  {
   "cell_type": "markdown",
   "metadata": {},
   "source": [
    "# Sort the dataframe to show highest arrests, citations, and warnings issued."
   ]
  },
  {
   "cell_type": "code",
   "execution_count": 319,
   "metadata": {},
   "outputs": [
    {
     "data": {
      "text/html": [
       "<div>\n",
       "<style scoped>\n",
       "    .dataframe tbody tr th:only-of-type {\n",
       "        vertical-align: middle;\n",
       "    }\n",
       "\n",
       "    .dataframe tbody tr th {\n",
       "        vertical-align: top;\n",
       "    }\n",
       "\n",
       "    .dataframe thead th {\n",
       "        text-align: right;\n",
       "    }\n",
       "</style>\n",
       "<table border=\"1\" class=\"dataframe\">\n",
       "  <thead>\n",
       "    <tr style=\"text-align: right;\">\n",
       "      <th></th>\n",
       "      <th>precinct</th>\n",
       "      <th>arrest_made</th>\n",
       "      <th>citation_issued</th>\n",
       "      <th>warning_issued</th>\n",
       "    </tr>\n",
       "  </thead>\n",
       "  <tbody>\n",
       "    <tr>\n",
       "      <th>11</th>\n",
       "      <td>223</td>\n",
       "      <td>78.0</td>\n",
       "      <td>60.0</td>\n",
       "      <td>46.0</td>\n",
       "    </tr>\n",
       "    <tr>\n",
       "      <th>6</th>\n",
       "      <td>211</td>\n",
       "      <td>65.0</td>\n",
       "      <td>24.0</td>\n",
       "      <td>19.0</td>\n",
       "    </tr>\n",
       "    <tr>\n",
       "      <th>20</th>\n",
       "      <td>411</td>\n",
       "      <td>54.0</td>\n",
       "      <td>46.0</td>\n",
       "      <td>33.0</td>\n",
       "    </tr>\n",
       "    <tr>\n",
       "      <th>32</th>\n",
       "      <td>621</td>\n",
       "      <td>50.0</td>\n",
       "      <td>26.0</td>\n",
       "      <td>16.0</td>\n",
       "    </tr>\n",
       "    <tr>\n",
       "      <th>12</th>\n",
       "      <td>311</td>\n",
       "      <td>49.0</td>\n",
       "      <td>49.0</td>\n",
       "      <td>42.0</td>\n",
       "    </tr>\n",
       "  </tbody>\n",
       "</table>\n",
       "</div>"
      ],
      "text/plain": [
       "   precinct  arrest_made  citation_issued  warning_issued\n",
       "11      223         78.0             60.0            46.0\n",
       "6       211         65.0             24.0            19.0\n",
       "20      411         54.0             46.0            33.0\n",
       "32      621         50.0             26.0            16.0\n",
       "12      311         49.0             49.0            42.0"
      ]
     },
     "execution_count": 319,
     "metadata": {},
     "output_type": "execute_result"
    }
   ],
   "source": [
    "final_data.sort_values(by=['arrest_made'],ascending=False).head()"
   ]
  },
  {
   "cell_type": "code",
   "execution_count": 320,
   "metadata": {},
   "outputs": [
    {
     "data": {
      "text/html": [
       "<div>\n",
       "<style scoped>\n",
       "    .dataframe tbody tr th:only-of-type {\n",
       "        vertical-align: middle;\n",
       "    }\n",
       "\n",
       "    .dataframe tbody tr th {\n",
       "        vertical-align: top;\n",
       "    }\n",
       "\n",
       "    .dataframe thead th {\n",
       "        text-align: right;\n",
       "    }\n",
       "</style>\n",
       "<table border=\"1\" class=\"dataframe\">\n",
       "  <thead>\n",
       "    <tr style=\"text-align: right;\">\n",
       "      <th></th>\n",
       "      <th>precinct</th>\n",
       "      <th>arrest_made</th>\n",
       "      <th>citation_issued</th>\n",
       "      <th>warning_issued</th>\n",
       "    </tr>\n",
       "  </thead>\n",
       "  <tbody>\n",
       "    <tr>\n",
       "      <th>11</th>\n",
       "      <td>223</td>\n",
       "      <td>78.0</td>\n",
       "      <td>60.0</td>\n",
       "      <td>46.0</td>\n",
       "    </tr>\n",
       "    <tr>\n",
       "      <th>13</th>\n",
       "      <td>312</td>\n",
       "      <td>19.0</td>\n",
       "      <td>59.0</td>\n",
       "      <td>24.0</td>\n",
       "    </tr>\n",
       "    <tr>\n",
       "      <th>0</th>\n",
       "      <td>111</td>\n",
       "      <td>41.0</td>\n",
       "      <td>53.0</td>\n",
       "      <td>33.0</td>\n",
       "    </tr>\n",
       "    <tr>\n",
       "      <th>12</th>\n",
       "      <td>311</td>\n",
       "      <td>49.0</td>\n",
       "      <td>49.0</td>\n",
       "      <td>42.0</td>\n",
       "    </tr>\n",
       "    <tr>\n",
       "      <th>20</th>\n",
       "      <td>411</td>\n",
       "      <td>54.0</td>\n",
       "      <td>46.0</td>\n",
       "      <td>33.0</td>\n",
       "    </tr>\n",
       "  </tbody>\n",
       "</table>\n",
       "</div>"
      ],
      "text/plain": [
       "   precinct  arrest_made  citation_issued  warning_issued\n",
       "11      223         78.0             60.0            46.0\n",
       "13      312         19.0             59.0            24.0\n",
       "0       111         41.0             53.0            33.0\n",
       "12      311         49.0             49.0            42.0\n",
       "20      411         54.0             46.0            33.0"
      ]
     },
     "execution_count": 320,
     "metadata": {},
     "output_type": "execute_result"
    }
   ],
   "source": [
    "final_data.sort_values(by=['citation_issued'],ascending=False).head()"
   ]
  },
  {
   "cell_type": "code",
   "execution_count": 321,
   "metadata": {},
   "outputs": [
    {
     "data": {
      "text/html": [
       "<div>\n",
       "<style scoped>\n",
       "    .dataframe tbody tr th:only-of-type {\n",
       "        vertical-align: middle;\n",
       "    }\n",
       "\n",
       "    .dataframe tbody tr th {\n",
       "        vertical-align: top;\n",
       "    }\n",
       "\n",
       "    .dataframe thead th {\n",
       "        text-align: right;\n",
       "    }\n",
       "</style>\n",
       "<table border=\"1\" class=\"dataframe\">\n",
       "  <thead>\n",
       "    <tr style=\"text-align: right;\">\n",
       "      <th></th>\n",
       "      <th>precinct</th>\n",
       "      <th>arrest_made</th>\n",
       "      <th>citation_issued</th>\n",
       "      <th>warning_issued</th>\n",
       "    </tr>\n",
       "  </thead>\n",
       "  <tbody>\n",
       "    <tr>\n",
       "      <th>11</th>\n",
       "      <td>223</td>\n",
       "      <td>78.0</td>\n",
       "      <td>60.0</td>\n",
       "      <td>46.0</td>\n",
       "    </tr>\n",
       "    <tr>\n",
       "      <th>12</th>\n",
       "      <td>311</td>\n",
       "      <td>49.0</td>\n",
       "      <td>49.0</td>\n",
       "      <td>42.0</td>\n",
       "    </tr>\n",
       "    <tr>\n",
       "      <th>22</th>\n",
       "      <td>421</td>\n",
       "      <td>26.0</td>\n",
       "      <td>40.0</td>\n",
       "      <td>37.0</td>\n",
       "    </tr>\n",
       "    <tr>\n",
       "      <th>0</th>\n",
       "      <td>111</td>\n",
       "      <td>41.0</td>\n",
       "      <td>53.0</td>\n",
       "      <td>33.0</td>\n",
       "    </tr>\n",
       "    <tr>\n",
       "      <th>20</th>\n",
       "      <td>411</td>\n",
       "      <td>54.0</td>\n",
       "      <td>46.0</td>\n",
       "      <td>33.0</td>\n",
       "    </tr>\n",
       "  </tbody>\n",
       "</table>\n",
       "</div>"
      ],
      "text/plain": [
       "   precinct  arrest_made  citation_issued  warning_issued\n",
       "11      223         78.0             60.0            46.0\n",
       "12      311         49.0             49.0            42.0\n",
       "22      421         26.0             40.0            37.0\n",
       "0       111         41.0             53.0            33.0\n",
       "20      411         54.0             46.0            33.0"
      ]
     },
     "execution_count": 321,
     "metadata": {},
     "output_type": "execute_result"
    }
   ],
   "source": [
    "final_data.sort_values(by=['warning_issued'],ascending=False).head()"
   ]
  },
  {
   "cell_type": "markdown",
   "metadata": {},
   "source": [
    "# Altair visuals for the web "
   ]
  },
  {
   "cell_type": "code",
   "execution_count": 323,
   "metadata": {},
   "outputs": [],
   "source": [
    "arrests = alt.Chart(final_data).mark_circle(color=\"red\").encode(\n",
    "    x='precinct:N',\n",
    "    y='sum(arrest_made):Q',\n",
    "    tooltip=[\"arrest_made:Q\",\"precinct:N\"]\n",
    "   \n",
    ").transform_fold(\n",
    "    fold=['arrest_made'])\n",
    "citation = alt.Chart(final_data).mark_circle(color=\"yellow\").encode(\n",
    "    x='precinct:N',\n",
    "    y='sum(citation_issued):Q',\n",
    "    tooltip=[\"citation_issued:Q\",\"precinct:N\"]\n",
    "   \n",
    ").transform_fold(\n",
    "    fold=['citation_issued'])\n",
    "warning = alt.Chart(final_data).mark_circle(color=\"green\").encode(\n",
    "    x='precinct:N',\n",
    "    y='sum(warning_issued):Q',\n",
    "    tooltip=[\"warning_issued:Q\",\"precinct:N\"]\n",
    "   \n",
    ").transform_fold(\n",
    "    fold=['warning_issued'])\n",
    "final = arrests +citation +warning\n",
    "final.save(\"final_vis.html\",embed_options={\"renderer\":\"svg\"})"
   ]
  },
  {
   "cell_type": "code",
   "execution_count": 329,
   "metadata": {},
   "outputs": [],
   "source": [
    "background = alt.Chart(data).mark_geoshape(\n",
    "    fill='lightgray',\n",
    "    stroke='white'\n",
    ").project('albersUsa').properties(\n",
    "    width=500,\n",
    "    height=300\n",
    ")\n",
    "selector = alt.selection_single(empty='all', fields=['arrest_made'])\n",
    "\n",
    "color_condition = alt.condition(selector,\"arrest_made\",       \n",
    "                                  alt.value(\"lightgray\"))\n",
    "points = alt.Chart(data).mark_circle().encode(\n",
    "    longitude='lng:Q',\n",
    "    latitude='lat:Q',\n",
    "    size=alt.value(10),\n",
    "    color =color_condition,\n",
    "    tooltip=[\"precinct\",\"arrest_made:Q\"]\n",
    ").add_selection(selector)\n",
    "arrest= background+ points\n",
    "arrest.save(\"arrest.html\",embed_options={\"renderer\":\"svg\"})"
   ]
  },
  {
   "cell_type": "code",
   "execution_count": 324,
   "metadata": {},
   "outputs": [],
   "source": [
    "background = alt.Chart(data).mark_geoshape(\n",
    "    fill='lightgray',\n",
    "    stroke='white'\n",
    ").project('albersUsa').properties(\n",
    "    width=500,\n",
    "    height=300\n",
    ")\n",
    "selector = alt.selection_single(empty='all', fields=['arrest_made'])\n",
    "\n",
    "color_condition = alt.condition(selector,\"precinct\",       \n",
    "                                  alt.value(\"lightgray\"))\n",
    "points = alt.Chart(data).mark_circle().encode(\n",
    "    longitude='lng:Q',\n",
    "    latitude='lat:Q',\n",
    "    size=alt.value(20),\n",
    "    color =color_condition,\n",
    "    tooltip=[\"precinct\",\"arrest_made:Q\"]\n",
    ").add_selection(selector)\n",
    "arrests_precinct = background + points\n",
    "arrests_precinct.save(\"arrests_precinct.html\",embed_options={\"renderer\":\"svg\"})"
   ]
  },
  {
   "cell_type": "code",
   "execution_count": 325,
   "metadata": {},
   "outputs": [],
   "source": [
    "background = alt.Chart(data).mark_geoshape(\n",
    "    fill='lightgray',\n",
    "    stroke='white'\n",
    ").project('albersUsa').properties(\n",
    "    width=500,\n",
    "    height=300\n",
    ")\n",
    "selector = alt.selection_single(empty='all', fields=['citation_issued'])\n",
    "\n",
    "color_condition = alt.condition(selector,\"citation_issued\",       \n",
    "                                  alt.value(\"lightgray\"))\n",
    "points = alt.Chart(data).mark_circle().encode(\n",
    "    longitude='lng:Q',\n",
    "    latitude='lat:Q',\n",
    "    size=alt.value(10),\n",
    "    color =color_condition,\n",
    "    tooltip=[\"precinct\",\"citation_issued:Q\"]\n",
    ").add_selection(selector)\n",
    "citations = background+ points\n",
    "citations.save(\"citations.html\",embed_options={\"renderer\":\"svg\"})"
   ]
  },
  {
   "cell_type": "code",
   "execution_count": 326,
   "metadata": {},
   "outputs": [],
   "source": [
    "background = alt.Chart(data).mark_geoshape(\n",
    "    fill='lightgray',\n",
    "    stroke='white'\n",
    ").project('albersUsa').properties(\n",
    "    width=500,\n",
    "    height=300\n",
    ")\n",
    "selector = alt.selection_single(empty='all', fields=['citation_issued'])\n",
    "\n",
    "color_condition = alt.condition(selector,\"precinct\",       \n",
    "                                  alt.value(\"lightgray\"))\n",
    "points = alt.Chart(data).mark_circle().encode(\n",
    "    longitude='lng:Q',\n",
    "    latitude='lat:Q',\n",
    "    size=alt.value(20),\n",
    "    color =color_condition,\n",
    "    tooltip=[\"precinct\",\"citation_issued:Q\"]\n",
    ").add_selection(selector)\n",
    "citations_precinct = background + points\n",
    "citations_precinct.save(\"citations_precinct.html\",embed_options={\"renderer\":\"svg\"})"
   ]
  },
  {
   "cell_type": "code",
   "execution_count": 327,
   "metadata": {},
   "outputs": [],
   "source": [
    "background = alt.Chart(data).mark_geoshape(\n",
    "    fill='lightgray',\n",
    "    stroke='white'\n",
    ").project('albersUsa').properties(\n",
    "    width=500,\n",
    "    height=300\n",
    ")\n",
    "selector = alt.selection_single(empty='all', fields=['warning_issued'])\n",
    "\n",
    "color_condition = alt.condition(selector,\"warning_issued\",       \n",
    "                                  alt.value(\"lightgray\"))\n",
    "points = alt.Chart(data).mark_circle().encode(\n",
    "    longitude='lng:Q',\n",
    "    latitude='lat:Q',\n",
    "    size=alt.value(10),\n",
    "    color =color_condition,\n",
    "    tooltip=[\"precinct\",\"warning_issued:Q\"]\n",
    ").add_selection(selector)\n",
    "warnings = background+ points\n",
    "warnings.save(\"warnings.html\",embed_options={\"renderer\":\"svg\"})"
   ]
  },
  {
   "cell_type": "code",
   "execution_count": 328,
   "metadata": {},
   "outputs": [],
   "source": [
    "background = alt.Chart(data).mark_geoshape(\n",
    "    fill='lightgray',\n",
    "    stroke='white'\n",
    ").project('albersUsa').properties(\n",
    "    width=500,\n",
    "    height=300\n",
    ")\n",
    "selector = alt.selection_single(empty='all', fields=['warning_issued'])\n",
    "\n",
    "color_condition = alt.condition(selector,\"precinct\",       \n",
    "                                  alt.value(\"lightgray\"))\n",
    "points = alt.Chart(data).mark_circle().encode(\n",
    "    longitude='lng:Q',\n",
    "    latitude='lat:Q',\n",
    "    size=alt.value(20),\n",
    "    color =color_condition,\n",
    "    tooltip=[\"precinct\",\"warning_issued:Q\"]\n",
    ").add_selection(selector)\n",
    "warnings_precinct = background + points\n",
    "warnings_precinct.save(\"warnings_precinct.html\",embed_options={\"renderer\":\"svg\"})"
   ]
  }
 ],
 "metadata": {
  "kernelspec": {
   "display_name": "Python 3",
   "language": "python",
   "name": "python3"
  },
  "language_info": {
   "codemirror_mode": {
    "name": "ipython",
    "version": 3
   },
   "file_extension": ".py",
   "mimetype": "text/x-python",
   "name": "python",
   "nbconvert_exporter": "python",
   "pygments_lexer": "ipython3",
   "version": "3.7.3"
  }
 },
 "nbformat": 4,
 "nbformat_minor": 2
}
